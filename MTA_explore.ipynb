{
 "cells": [
  {
   "cell_type": "markdown",
   "metadata": {},
   "source": [
    "# Explore the Data"
   ]
  },
  {
   "cell_type": "code",
   "execution_count": 1,
   "metadata": {},
   "outputs": [],
   "source": [
    "import pandas as pd\n",
    "import processTurnstiles"
   ]
  },
  {
   "cell_type": "markdown",
   "metadata": {},
   "source": [
    "### List functions of the processTurnstiles module"
   ]
  },
  {
   "cell_type": "code",
   "execution_count": 3,
   "metadata": {},
   "outputs": [
    {
     "name": "stdout",
     "output_type": "stream",
     "text": [
      "Help on module processTurnstiles:\n",
      "\n",
      "NAME\n",
      "    processTurnstiles - Jonathan L Chu, 2020 for Metis SF20_DS18\n",
      "\n",
      "DESCRIPTION\n",
      "    Module to download and process\n",
      "    MTA turnstiles data for use in pandas\n",
      "\n",
      "FUNCTIONS\n",
      "    get_data(week_nums)\n",
      "        Downloads MTA turnstiles data from site, for specified week_nums.\n",
      "        Returns pandas dataframe of raw data\n",
      "    \n",
      "    processTurnstiles(df)\n",
      "        Reads in raw MTA turnstile data as a pd dataframe\n",
      "        Converts 'DATE' and 'TIME' cols to Datetime objects,\n",
      "        adds 'ENTRIES_DIFF' col of count of entries (calculated \n",
      "        from 'ENTRIES' running total)\n",
      "        \n",
      "        Please be careful about the automatic outlier removal here\n",
      "        \n",
      "        Returns: pandas DataFrame\n",
      "    \n",
      "    readProcessedData(path)\n",
      "        Reads in ALREADY PROCESSED turnstile data from 'file' and drops old index,\n",
      "        then converts DATETIME and DATE columns to datetime objects\n",
      "\n",
      "FILE\n",
      "    /Users/kibbles/Documents/Metis/metisproject1/processTurnstiles.py\n",
      "\n",
      "\n"
     ]
    }
   ],
   "source": [
    "help(processTurnstiles)"
   ]
  },
  {
   "cell_type": "code",
   "execution_count": 4,
   "metadata": {},
   "outputs": [
    {
     "data": {
      "text/plain": [
       "'turnstiles_june2019.txt'"
      ]
     },
     "execution_count": 4,
     "metadata": {},
     "output_type": "execute_result"
    }
   ],
   "source": [
    "path = r'' # path to where you want the turnstiles data. Here it's in the current directory so the path is null\n",
    "turnstiles_raw = r'turnstiles_june2019.txt'\n",
    "path+turnstiles_raw"
   ]
  },
  {
   "cell_type": "markdown",
   "metadata": {},
   "source": [
    "### If we need to download or process the data, uncomment the following lines (and don't run readProcessedData() function in the next cell)"
   ]
  },
  {
   "cell_type": "code",
   "execution_count": 5,
   "metadata": {},
   "outputs": [],
   "source": [
    "week_nums = [190608, 190615, 190622, 190629]\n",
    "#df = processTurnstiles.getData(week_nums)\n",
    "#df =  processTurnstiles.processTurnstiles(df)"
   ]
  },
  {
   "cell_type": "markdown",
   "metadata": {},
   "source": [
    "### Optionally, save the data"
   ]
  },
  {
   "cell_type": "code",
   "execution_count": 8,
   "metadata": {},
   "outputs": [],
   "source": [
    "turnstiles_processed = r'turnstiles_june2019_procd.txt'\n",
    "# pd.to_csv(path+turnstiles_process)"
   ]
  },
  {
   "cell_type": "code",
   "execution_count": 6,
   "metadata": {},
   "outputs": [],
   "source": [
    "\n",
    "df = processTurnstiles.readProcessedData(path+turnstiles_processed)"
   ]
  },
  {
   "cell_type": "code",
   "execution_count": 7,
   "metadata": {},
   "outputs": [
    {
     "name": "stdout",
     "output_type": "stream",
     "text": [
      "<class 'pandas.core.frame.DataFrame'>\n",
      "RangeIndex: 779480 entries, 0 to 779479\n",
      "Data columns (total 16 columns):\n",
      " #   Column                                                                Non-Null Count   Dtype         \n",
      "---  ------                                                                --------------   -----         \n",
      " 0   level_0                                                               779480 non-null  int64         \n",
      " 1   C/A                                                                   779480 non-null  object        \n",
      " 2   UNIT                                                                  779480 non-null  object        \n",
      " 3   SCP                                                                   779480 non-null  object        \n",
      " 4   STATION                                                               779480 non-null  object        \n",
      " 5   LINENAME                                                              779480 non-null  object        \n",
      " 6   DIVISION                                                              779480 non-null  object        \n",
      " 7   DATE                                                                  779480 non-null  datetime64[ns]\n",
      " 8   TIME                                                                  779480 non-null  object        \n",
      " 9   DESC                                                                  779480 non-null  object        \n",
      " 10  ENTRIES                                                               779480 non-null  int64         \n",
      " 11  EXITS                                                                 779480 non-null  int64         \n",
      " 12  DATETIME                                                              779480 non-null  datetime64[ns]\n",
      " 13  DOF                                                                   779480 non-null  object        \n",
      " 14  STATION_ID                                                            779480 non-null  object        \n",
      " 15  ENTRIES_DIFF                                                          779480 non-null  int64         \n",
      "dtypes: datetime64[ns](2), int64(4), object(10)\n",
      "memory usage: 95.2+ MB\n"
     ]
    }
   ],
   "source": [
    "df.info()"
   ]
  },
  {
   "cell_type": "code",
   "execution_count": null,
   "metadata": {},
   "outputs": [],
   "source": []
  }
 ],
 "metadata": {
  "kernelspec": {
   "display_name": "Python 3",
   "language": "python",
   "name": "python3"
  },
  "language_info": {
   "codemirror_mode": {
    "name": "ipython",
    "version": 3
   },
   "file_extension": ".py",
   "mimetype": "text/x-python",
   "name": "python",
   "nbconvert_exporter": "python",
   "pygments_lexer": "ipython3",
   "version": "3.7.6"
  }
 },
 "nbformat": 4,
 "nbformat_minor": 4
}
